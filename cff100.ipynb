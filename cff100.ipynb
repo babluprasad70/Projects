{
  "nbformat": 4,
  "nbformat_minor": 0,
  "metadata": {
    "colab": {
      "provenance": []
    },
    "kernelspec": {
      "name": "python3",
      "display_name": "Python 3"
    },
    "language_info": {
      "name": "python"
    },
    "accelerator": "GPU",
    "gpuClass": "standard"
  },
  "cells": [
    {
      "cell_type": "code",
      "execution_count": 1,
      "metadata": {
        "id": "fq-dfaTfgEQQ"
      },
      "outputs": [],
      "source": [
        "import tensorflow as tf\n",
        "from tensorflow.keras import datasets,layers, models\n",
        "import matplotlib.pyplot as plt\n",
        "from tensorflow.keras.utils import to_categorical\n",
        "from keras.models import Sequential\n",
        "from keras.layers import Dense, Activation, Dropout, Conv2D, MaxPooling2D\n",
        "from keras.layers.core import Flatten\n",
        "import numpy as np\n",
        "from sklearn.metrics import confusion_matrix\n",
        "from tensorflow.keras.optimizers import SGD\n",
        "from tensorflow.keras.datasets import cifar100\n",
        "from tensorflow.keras.layers import BatchNormalization\n",
        "from tensorflow.keras.regularizers import l2"
      ]
    },
    {
      "cell_type": "code",
      "source": [
        "# Load CIFAR-100 dataset\n",
        "(xtr, ytr), (xt, yt) = cifar100.load_data()\n",
        "\n",
        "print('x_tain shape:', xtr.shape)\n",
        "print(xtr.shape[0], 'train samples')\n",
        "print(xt.shape[0], 'test samples')"
      ],
      "metadata": {
        "colab": {
          "base_uri": "https://localhost:8080/"
        },
        "id": "bvXPEpUpi9Sd",
        "outputId": "6f744755-1c3b-45a2-a7b9-5c62cb67b022"
      },
      "execution_count": 4,
      "outputs": [
        {
          "output_type": "stream",
          "name": "stdout",
          "text": [
            "x_tain shape: (50000, 32, 32, 3)\n",
            "50000 train samples\n",
            "10000 test samples\n"
          ]
        }
      ]
    },
    {
      "cell_type": "code",
      "source": [
        "class_names = ['apple', 'aquarium_fish', 'baby', 'bear', 'beaver', 'bed', 'bee', 'beetle', 'bicycle', \n",
        "               'bottle', 'bowl', 'boy', 'bridge', 'bus', 'butterfly', 'camel', 'can', 'castle', 'caterpillar', \n",
        "               'cattle', 'chair', 'chimpanzee', 'clock', 'cloud', 'cockroach', 'couch', 'crab', 'crocodile', 'cup', \n",
        "               'dinosaur', 'dolphin', 'elephant', 'flatfish', 'forest', 'fox', 'girl', 'hamster', 'house', 'kangaroo',\n",
        "               'keyboard', 'lamp', 'lawn_mower', 'leopard', 'lion', 'lizard', 'lobster', 'man', 'maple_tree', 'motorcycle', \n",
        "               'mountain', 'mouse', 'mushroom', 'oak_tree', 'orange', 'orchid', 'otter', 'palm_tree', 'pear', 'pickup_truck', \n",
        "               'pine_tree', 'plain', 'plate', 'poppy', 'porcupine', 'possum', 'rabbit', 'raccoon', 'ray', 'road', 'rocket', \n",
        "               'rose', 'sea', 'seal', 'shark', 'shrew', 'skunk', 'skyscraper', 'snail', 'snake', 'spider', 'squirrel', \n",
        "               'streetcar', 'sunflower', 'sweet_pepper', 'table', 'tank', 'telephone', 'television', 'tiger', 'tractor', 'train', \n",
        "               'trout', 'tulip', 'turtle', 'wardrobe', 'whale', 'willow_tree', 'wolf', 'woman', 'worm']"
      ],
      "metadata": {
        "id": "bYY6cPk-uPP7"
      },
      "execution_count": 5,
      "outputs": []
    },
    {
      "cell_type": "code",
      "source": [
        "fig = plt.figure(figsize=(10,5))\n",
        "for i in range(10):\n",
        "    ax = fig.add_subplot(2, 5, 1 + i, xticks=[], yticks=[])\n",
        "    idx = np.where(ytr[:]==i)[0]\n",
        "    features_idx = xtr[idx,::]\n",
        "    img_num = np.random.randint(features_idx.shape[0])\n",
        "    im = (features_idx[img_num,::])\n",
        "    ax.set_title(class_names[i])\n",
        "    plt.imshow(im)\n",
        "plt.show()"
      ],
      "metadata": {
        "id": "_nH_IyhduPdG"
      },
      "execution_count": null,
      "outputs": []
    },
    {
      "cell_type": "code",
      "source": [
        "# Convert class vectors to binary class matrices.\n",
        "ytr = tf.keras.utils.to_categorical(ytr, 100)\n",
        "yt = tf.keras.utils.to_categorical(yt, 100)"
      ],
      "metadata": {
        "id": "hzLu2Z6vkrHf"
      },
      "execution_count": 8,
      "outputs": []
    },
    {
      "cell_type": "code",
      "source": [
        "# Building the CNN Model (Hidden Output)\n",
        "\n",
        "model = Sequential()\n",
        "model.add(Conv2D(64, (3, 3), padding='same',input_shape=xtr.shape[1:]))\n",
        "model.add(Activation('relu'))\n",
        "model.add(BatchNormalization())\n",
        "model.add(Conv2D(64, (3, 3)))\n",
        "model.add(Activation('relu'))\n",
        "model.add(BatchNormalization())\n",
        "model.add(MaxPooling2D(pool_size=(2, 2)))\n",
        "model.add(Dropout(0.25))\n",
        "\n",
        "model.add(Conv2D(128, (3, 3), padding='same'))\n",
        "model.add(Activation('relu'))\n",
        "model.add(BatchNormalization())\n",
        "model.add(Conv2D(128, (3, 3)))\n",
        "model.add(Activation('relu'))\n",
        "model.add(BatchNormalization())\n",
        "model.add(MaxPooling2D(pool_size=(2, 2)))\n",
        "model.add(Dropout(0.25))\n",
        "\n",
        "model.add(Flatten())\n",
        "model.add(Dense(512,kernel_regularizer=l2(0.01)))\n",
        "model.add(Activation('relu'))\n",
        "model.add(Dropout(0.5))\n",
        "model.add(Dense(100))\n",
        "model.add(Activation('softmax'))"
      ],
      "metadata": {
        "id": "lnmb50x_i9Ww"
      },
      "execution_count": 22,
      "outputs": []
    },
    {
      "cell_type": "code",
      "source": [
        "model.summary()"
      ],
      "metadata": {
        "colab": {
          "base_uri": "https://localhost:8080/"
        },
        "id": "CYEhZCuUi9c_",
        "outputId": "74347b01-6422-4030-9ac1-c5597a45346e"
      },
      "execution_count": 23,
      "outputs": [
        {
          "output_type": "stream",
          "name": "stdout",
          "text": [
            "Model: \"sequential_8\"\n",
            "_________________________________________________________________\n",
            " Layer (type)                Output Shape              Param #   \n",
            "=================================================================\n",
            " conv2d_25 (Conv2D)          (None, 32, 32, 64)        1792      \n",
            "                                                                 \n",
            " activation_25 (Activation)  (None, 32, 32, 64)        0         \n",
            "                                                                 \n",
            " batch_normalization_24 (Bat  (None, 32, 32, 64)       256       \n",
            " chNormalization)                                                \n",
            "                                                                 \n",
            " conv2d_26 (Conv2D)          (None, 30, 30, 64)        36928     \n",
            "                                                                 \n",
            " activation_26 (Activation)  (None, 30, 30, 64)        0         \n",
            "                                                                 \n",
            " batch_normalization_25 (Bat  (None, 30, 30, 64)       256       \n",
            " chNormalization)                                                \n",
            "                                                                 \n",
            " max_pooling2d_12 (MaxPoolin  (None, 15, 15, 64)       0         \n",
            " g2D)                                                            \n",
            "                                                                 \n",
            " dropout_12 (Dropout)        (None, 15, 15, 64)        0         \n",
            "                                                                 \n",
            " conv2d_27 (Conv2D)          (None, 15, 15, 128)       73856     \n",
            "                                                                 \n",
            " activation_27 (Activation)  (None, 15, 15, 128)       0         \n",
            "                                                                 \n",
            " batch_normalization_26 (Bat  (None, 15, 15, 128)      512       \n",
            " chNormalization)                                                \n",
            "                                                                 \n",
            " conv2d_28 (Conv2D)          (None, 13, 13, 128)       147584    \n",
            "                                                                 \n",
            " activation_28 (Activation)  (None, 13, 13, 128)       0         \n",
            "                                                                 \n",
            " batch_normalization_27 (Bat  (None, 13, 13, 128)      512       \n",
            " chNormalization)                                                \n",
            "                                                                 \n",
            " max_pooling2d_13 (MaxPoolin  (None, 6, 6, 128)        0         \n",
            " g2D)                                                            \n",
            "                                                                 \n",
            " dropout_13 (Dropout)        (None, 6, 6, 128)         0         \n",
            "                                                                 \n",
            " flatten_6 (Flatten)         (None, 4608)              0         \n",
            "                                                                 \n",
            " dense_1 (Dense)             (None, 512)               2359808   \n",
            "                                                                 \n",
            " activation_29 (Activation)  (None, 512)               0         \n",
            "                                                                 \n",
            " dropout_14 (Dropout)        (None, 512)               0         \n",
            "                                                                 \n",
            " dense_2 (Dense)             (None, 100)               51300     \n",
            "                                                                 \n",
            " activation_30 (Activation)  (None, 100)               0         \n",
            "                                                                 \n",
            "=================================================================\n",
            "Total params: 2,672,804\n",
            "Trainable params: 2,672,036\n",
            "Non-trainable params: 768\n",
            "_________________________________________________________________\n"
          ]
        }
      ]
    },
    {
      "cell_type": "code",
      "source": [
        "# compile (Hidden Output)\n",
        "model.compile(loss='categorical_crossentropy',\n",
        "              optimizer='sgd',\n",
        "              metrics=['accuracy'])\n",
        "\n",
        "xtr = xtr.astype('float32')\n",
        "xt = xt.astype('float32')\n",
        "\n",
        "# Normalizing the input image\n",
        "xtr /= 255\n",
        "xt /= 255\n",
        "\n",
        "epochs=50\n",
        "\n",
        "# Training the model\n",
        "history = model.fit(xtr, ytr,\n",
        "              batch_size=32,\n",
        "              epochs=epochs,\n",
        "              validation_data=(xt, yt),\n",
        "              shuffle=True)"
      ],
      "metadata": {
        "colab": {
          "base_uri": "https://localhost:8080/"
        },
        "id": "E80czuxNoESW",
        "outputId": "7b4ed68a-9454-40c6-fad7-f5c1b6b85e43"
      },
      "execution_count": 25,
      "outputs": [
        {
          "output_type": "stream",
          "name": "stdout",
          "text": [
            "Epoch 1/50\n",
            "1563/1563 [==============================] - 28s 12ms/step - loss: 11.1236 - accuracy: 0.0769 - val_loss: 8.8356 - val_accuracy: 0.1192\n",
            "Epoch 2/50\n",
            "1563/1563 [==============================] - 19s 12ms/step - loss: 7.3806 - accuracy: 0.1593 - val_loss: 6.0975 - val_accuracy: 0.2106\n",
            "Epoch 3/50\n",
            "1563/1563 [==============================] - 17s 11ms/step - loss: 5.4167 - accuracy: 0.2114 - val_loss: 4.7138 - val_accuracy: 0.2478\n",
            "Epoch 4/50\n",
            "1563/1563 [==============================] - 18s 11ms/step - loss: 4.2938 - accuracy: 0.2607 - val_loss: 5.0819 - val_accuracy: 0.1561\n",
            "Epoch 5/50\n",
            "1563/1563 [==============================] - 18s 11ms/step - loss: 3.6260 - accuracy: 0.3088 - val_loss: 4.5019 - val_accuracy: 0.1938\n",
            "Epoch 6/50\n",
            "1563/1563 [==============================] - 18s 12ms/step - loss: 3.2325 - accuracy: 0.3443 - val_loss: 7.4875 - val_accuracy: 0.0473\n",
            "Epoch 7/50\n",
            "1563/1563 [==============================] - 20s 13ms/step - loss: 2.9809 - accuracy: 0.3802 - val_loss: 4.1915 - val_accuracy: 0.2044\n",
            "Epoch 8/50\n",
            "1563/1563 [==============================] - 18s 12ms/step - loss: 2.8161 - accuracy: 0.4121 - val_loss: 2.9521 - val_accuracy: 0.3888\n",
            "Epoch 9/50\n",
            "1563/1563 [==============================] - 18s 11ms/step - loss: 2.7110 - accuracy: 0.4357 - val_loss: 3.3035 - val_accuracy: 0.3303\n",
            "Epoch 10/50\n",
            "1563/1563 [==============================] - 18s 11ms/step - loss: 2.6322 - accuracy: 0.4625 - val_loss: 3.7922 - val_accuracy: 0.3016\n",
            "Epoch 11/50\n",
            "1563/1563 [==============================] - 18s 11ms/step - loss: 2.5915 - accuracy: 0.4809 - val_loss: 3.2905 - val_accuracy: 0.3616\n",
            "Epoch 12/50\n",
            "1563/1563 [==============================] - 18s 11ms/step - loss: 2.5595 - accuracy: 0.5033 - val_loss: 3.7853 - val_accuracy: 0.3121\n",
            "Epoch 13/50\n",
            "1563/1563 [==============================] - 18s 12ms/step - loss: 2.5426 - accuracy: 0.5179 - val_loss: 3.2432 - val_accuracy: 0.3967\n",
            "Epoch 14/50\n",
            "1563/1563 [==============================] - 18s 11ms/step - loss: 2.5320 - accuracy: 0.5334 - val_loss: 4.8188 - val_accuracy: 0.2273\n",
            "Epoch 15/50\n",
            "1563/1563 [==============================] - 18s 12ms/step - loss: 2.5421 - accuracy: 0.5400 - val_loss: 3.2672 - val_accuracy: 0.3975\n",
            "Epoch 16/50\n",
            "1563/1563 [==============================] - 18s 11ms/step - loss: 2.5321 - accuracy: 0.5520 - val_loss: 3.4012 - val_accuracy: 0.4010\n",
            "Epoch 17/50\n",
            "1563/1563 [==============================] - 18s 11ms/step - loss: 2.5275 - accuracy: 0.5632 - val_loss: 3.4754 - val_accuracy: 0.3879\n",
            "Epoch 18/50\n",
            "1563/1563 [==============================] - 18s 11ms/step - loss: 2.5251 - accuracy: 0.5705 - val_loss: 5.6331 - val_accuracy: 0.2075\n",
            "Epoch 19/50\n",
            "1563/1563 [==============================] - 18s 11ms/step - loss: 2.5252 - accuracy: 0.5776 - val_loss: 4.0972 - val_accuracy: 0.3145\n",
            "Epoch 20/50\n",
            "1563/1563 [==============================] - 19s 12ms/step - loss: 2.5314 - accuracy: 0.5826 - val_loss: 3.0789 - val_accuracy: 0.4787\n",
            "Epoch 21/50\n",
            "1563/1563 [==============================] - 18s 11ms/step - loss: 2.5281 - accuracy: 0.5900 - val_loss: 4.0881 - val_accuracy: 0.3363\n",
            "Epoch 22/50\n",
            "1563/1563 [==============================] - 19s 12ms/step - loss: 2.5470 - accuracy: 0.5913 - val_loss: 3.1762 - val_accuracy: 0.4806\n",
            "Epoch 23/50\n",
            "1563/1563 [==============================] - 18s 11ms/step - loss: 2.5532 - accuracy: 0.5981 - val_loss: 3.9361 - val_accuracy: 0.3636\n",
            "Epoch 24/50\n",
            "1563/1563 [==============================] - 19s 12ms/step - loss: 2.5466 - accuracy: 0.6016 - val_loss: 3.7484 - val_accuracy: 0.3953\n",
            "Epoch 25/50\n",
            "1563/1563 [==============================] - 18s 11ms/step - loss: 2.5357 - accuracy: 0.6088 - val_loss: 3.3447 - val_accuracy: 0.4520\n",
            "Epoch 26/50\n",
            "1563/1563 [==============================] - 19s 12ms/step - loss: 2.5518 - accuracy: 0.6073 - val_loss: 3.3492 - val_accuracy: 0.4661\n",
            "Epoch 27/50\n",
            "1563/1563 [==============================] - 18s 11ms/step - loss: 2.5566 - accuracy: 0.6113 - val_loss: 3.1016 - val_accuracy: 0.5038\n",
            "Epoch 28/50\n",
            "1563/1563 [==============================] - 17s 11ms/step - loss: 2.5560 - accuracy: 0.6126 - val_loss: 3.3865 - val_accuracy: 0.4587\n",
            "Epoch 29/50\n",
            "1563/1563 [==============================] - 17s 11ms/step - loss: 2.5479 - accuracy: 0.6203 - val_loss: 4.0421 - val_accuracy: 0.3608\n",
            "Epoch 30/50\n",
            "1563/1563 [==============================] - 17s 11ms/step - loss: 2.5513 - accuracy: 0.6197 - val_loss: 3.4737 - val_accuracy: 0.4399\n",
            "Epoch 31/50\n",
            "1563/1563 [==============================] - 17s 11ms/step - loss: 2.5470 - accuracy: 0.6242 - val_loss: 3.3588 - val_accuracy: 0.4680\n",
            "Epoch 32/50\n",
            "1563/1563 [==============================] - 18s 11ms/step - loss: 2.5535 - accuracy: 0.6275 - val_loss: 3.5317 - val_accuracy: 0.4456\n",
            "Epoch 33/50\n",
            "1563/1563 [==============================] - 17s 11ms/step - loss: 2.5278 - accuracy: 0.6321 - val_loss: 3.8854 - val_accuracy: 0.4120\n",
            "Epoch 34/50\n",
            "1563/1563 [==============================] - 17s 11ms/step - loss: 2.5318 - accuracy: 0.6334 - val_loss: 5.9485 - val_accuracy: 0.2149\n",
            "Epoch 35/50\n",
            "1563/1563 [==============================] - 17s 11ms/step - loss: 2.5339 - accuracy: 0.6357 - val_loss: 3.3387 - val_accuracy: 0.4797\n",
            "Epoch 36/50\n",
            "1563/1563 [==============================] - 18s 11ms/step - loss: 2.5306 - accuracy: 0.6392 - val_loss: 3.7640 - val_accuracy: 0.4146\n",
            "Epoch 37/50\n",
            "1563/1563 [==============================] - 17s 11ms/step - loss: 2.5344 - accuracy: 0.6398 - val_loss: 4.4773 - val_accuracy: 0.3072\n",
            "Epoch 38/50\n",
            "1563/1563 [==============================] - 18s 11ms/step - loss: 2.5333 - accuracy: 0.6410 - val_loss: 3.8555 - val_accuracy: 0.4112\n",
            "Epoch 39/50\n",
            "1563/1563 [==============================] - 18s 11ms/step - loss: 2.5245 - accuracy: 0.6438 - val_loss: 3.4628 - val_accuracy: 0.4631\n",
            "Epoch 40/50\n",
            "1563/1563 [==============================] - 18s 11ms/step - loss: 2.5146 - accuracy: 0.6473 - val_loss: 3.5343 - val_accuracy: 0.4512\n",
            "Epoch 41/50\n",
            "1563/1563 [==============================] - 18s 11ms/step - loss: 2.5293 - accuracy: 0.6458 - val_loss: 3.3136 - val_accuracy: 0.4929\n",
            "Epoch 42/50\n",
            "1563/1563 [==============================] - 17s 11ms/step - loss: 2.5226 - accuracy: 0.6496 - val_loss: 3.2611 - val_accuracy: 0.5012\n",
            "Epoch 43/50\n",
            "1563/1563 [==============================] - 18s 11ms/step - loss: 2.5112 - accuracy: 0.6527 - val_loss: 3.4764 - val_accuracy: 0.4714\n",
            "Epoch 44/50\n",
            "1563/1563 [==============================] - 17s 11ms/step - loss: 2.5062 - accuracy: 0.6544 - val_loss: 3.4216 - val_accuracy: 0.4748\n",
            "Epoch 45/50\n",
            "1563/1563 [==============================] - 18s 11ms/step - loss: 2.5172 - accuracy: 0.6543 - val_loss: 3.3894 - val_accuracy: 0.4842\n",
            "Epoch 46/50\n",
            "1563/1563 [==============================] - 17s 11ms/step - loss: 2.4961 - accuracy: 0.6616 - val_loss: 3.5939 - val_accuracy: 0.4546\n",
            "Epoch 47/50\n",
            "1563/1563 [==============================] - 18s 11ms/step - loss: 2.5059 - accuracy: 0.6595 - val_loss: 3.3774 - val_accuracy: 0.4902\n",
            "Epoch 48/50\n",
            "1563/1563 [==============================] - 18s 11ms/step - loss: 2.5044 - accuracy: 0.6601 - val_loss: 3.5518 - val_accuracy: 0.4599\n",
            "Epoch 49/50\n",
            "1563/1563 [==============================] - 18s 11ms/step - loss: 2.5017 - accuracy: 0.6651 - val_loss: 3.5300 - val_accuracy: 0.4689\n",
            "Epoch 50/50\n",
            "1563/1563 [==============================] - 18s 11ms/step - loss: 2.4982 - accuracy: 0.6625 - val_loss: 4.5416 - val_accuracy: 0.3034\n"
          ]
        }
      ]
    },
    {
      "cell_type": "code",
      "source": [
        "# Plotting the Model Accuracy & Model Loss vs Epochs (Hidden Input)\n",
        "plt.figure(figsize=[20,8])\n",
        "\n",
        "# summarize history for accuracy\n",
        "plt.subplot(1,2,1)\n",
        "plt.plot(history.history['accuracy'])\n",
        "plt.plot(history.history['val_accuracy'])\n",
        "plt.title('Model Accuracy', size=25, pad=20)\n",
        "plt.ylabel('Accuracy', size=15)\n",
        "plt.xlabel('Epoch', size=15)\n",
        "plt.legend(['train', 'test'], loc='upper left')\n",
        "# summarize history for loss\n",
        "\n",
        "plt.subplot(1,2,2)\n",
        "plt.plot(history.history['loss'])\n",
        "plt.plot(history.history['val_loss'])\n",
        "plt.title('Model Loss', size=25, pad=20)\n",
        "plt.ylabel('Loss', size=15)\n",
        "plt.xlabel('Epoch', size=15)\n",
        "plt.legend(['train', 'test'], loc='upper left')\n",
        "plt.show()"
      ],
      "metadata": {
        "colab": {
          "base_uri": "https://localhost:8080/",
          "height": 541
        },
        "id": "Y7ibnoFPi9fg",
        "outputId": "d18d1a13-56c2-4964-d693-fe412d3ff0f9"
      },
      "execution_count": 26,
      "outputs": [
        {
          "output_type": "display_data",
          "data": {
            "text/plain": [
              "<Figure size 1440x576 with 2 Axes>"
            ],
            "image/png": "[encoded data removed]"
          },
          "metadata": {
            "needs_background": "light"
          }
        }
      ]
    },
    {
      "cell_type": "code",
      "source": [
        "y_pred = model.predict(xt)\n",
        "y_classes = [np.argmax(element) for element in y_pred]\n",
        "y_classes[:5]"
      ],
      "metadata": {
        "colab": {
          "base_uri": "https://localhost:8080/"
        },
        "id": "2xqiRya43zUI",
        "outputId": "9f9d7491-1c3f-4eca-c1a5-0228e2fd02df"
      },
      "execution_count": 36,
      "outputs": [
        {
          "output_type": "stream",
          "name": "stdout",
          "text": [
            "313/313 [==============================] - 1s 3ms/step\n"
          ]
        },
        {
          "output_type": "execute_result",
          "data": {
            "text/plain": [
              "[68, 33, 93, 51, 71]"
            ]
          },
          "metadata": {},
          "execution_count": 36
        }
      ]
    },
    {
      "cell_type": "code",
      "source": [
        "def plot_sample(X, y, index):\n",
        "    plt.figure(figsize = (15,2))\n",
        "    plt.imshow(X[index])\n",
        "    plt.xlabel(class_names[y[index]])"
      ],
      "metadata": {
        "id": "Xau_g3LG5UQ7"
      },
      "execution_count": 42,
      "outputs": []
    },
    {
      "cell_type": "code",
      "source": [
        "plt.figure(figsize=[10,10])\n",
        "\n",
        "plt.subplot(2,2,1)\n",
        "plt.imshow(xt[4].reshape(32, 32, -1))\n",
        "plt.grid(False)"
      ],
      "metadata": {
        "colab": {
          "base_uri": "https://localhost:8080/",
          "height": 295
        },
        "id": "P_zLtTyd5xMq",
        "outputId": "cafec415-07ed-46bc-8ad9-5b36afc88a6f"
      },
      "execution_count": 50,
      "outputs": [
        {
          "output_type": "display_data",
          "data": {
            "text/plain": [
              "<Figure size 720x720 with 1 Axes>"
            ],
            "image/png": "[encoded data removed]"
          },
          "metadata": {
            "needs_background": "light"
          }
        }
      ]
    },
    {
      "cell_type": "code",
      "source": [
        "plot_sample(xtr, ytr, 0)"
      ],
      "metadata": {
        "colab": {
          "base_uri": "https://localhost:8080/",
          "height": 400
        },
        "id": "NS0ABFaH43G7",
        "outputId": "e7861461-8b50-4a9c-e315-40c1b2318688"
      },
      "execution_count": 45,
      "outputs": [
        {
          "output_type": "error",
          "ename": "TypeError",
          "evalue": "ignored",
          "traceback": [
            "\u001b[0;31m---------------------------------------------------------------------------\u001b[0m",
            "\u001b[0;31mTypeError\u001b[0m                                 Traceback (most recent call last)",
            "\u001b[0;32m<ipython-input-45-1b5fd4c67028>\u001b[0m in \u001b[0;36m<module>\u001b[0;34m\u001b[0m\n\u001b[0;32m----> 1\u001b[0;31m \u001b[0mplot_sample\u001b[0m\u001b[0;34m(\u001b[0m\u001b[0mxtr\u001b[0m\u001b[0;34m,\u001b[0m \u001b[0mytr\u001b[0m\u001b[0;34m,\u001b[0m \u001b[0;36m0\u001b[0m\u001b[0;34m)\u001b[0m\u001b[0;34m\u001b[0m\u001b[0;34m\u001b[0m\u001b[0m\n\u001b[0m",
            "\u001b[0;32m<ipython-input-42-6f0d8b0e9235>\u001b[0m in \u001b[0;36mplot_sample\u001b[0;34m(X, y, index)\u001b[0m\n\u001b[1;32m      2\u001b[0m     \u001b[0mplt\u001b[0m\u001b[0;34m.\u001b[0m\u001b[0mfigure\u001b[0m\u001b[0;34m(\u001b[0m\u001b[0mfigsize\u001b[0m \u001b[0;34m=\u001b[0m \u001b[0;34m(\u001b[0m\u001b[0;36m15\u001b[0m\u001b[0;34m,\u001b[0m\u001b[0;36m2\u001b[0m\u001b[0;34m)\u001b[0m\u001b[0;34m)\u001b[0m\u001b[0;34m\u001b[0m\u001b[0;34m\u001b[0m\u001b[0m\n\u001b[1;32m      3\u001b[0m     \u001b[0mplt\u001b[0m\u001b[0;34m.\u001b[0m\u001b[0mimshow\u001b[0m\u001b[0;34m(\u001b[0m\u001b[0mX\u001b[0m\u001b[0;34m[\u001b[0m\u001b[0mindex\u001b[0m\u001b[0;34m]\u001b[0m\u001b[0;34m)\u001b[0m\u001b[0;34m\u001b[0m\u001b[0;34m\u001b[0m\u001b[0m\n\u001b[0;32m----> 4\u001b[0;31m     \u001b[0mplt\u001b[0m\u001b[0;34m.\u001b[0m\u001b[0mxlabel\u001b[0m\u001b[0;34m(\u001b[0m\u001b[0mclass_names\u001b[0m\u001b[0;34m[\u001b[0m\u001b[0my\u001b[0m\u001b[0;34m[\u001b[0m\u001b[0mindex\u001b[0m\u001b[0;34m]\u001b[0m\u001b[0;34m]\u001b[0m\u001b[0;34m)\u001b[0m\u001b[0;34m\u001b[0m\u001b[0;34m\u001b[0m\u001b[0m\n\u001b[0m",
            "\u001b[0;31mTypeError\u001b[0m: only integer scalar arrays can be converted to a scalar index"
          ]
        },
        {
          "output_type": "display_data",
          "data": {
            "text/plain": [
              "<Figure size 1080x144 with 1 Axes>"
            ],
            "image/png": "[encoded data removed]"
          },
          "metadata": {
            "needs_background": "light"
          }
        }
      ]
    },
    {
      "cell_type": "code",
      "source": [
        "# Checking the predictions! (Hidden Input)\n",
        "predictions = model.predict(xt)\n",
        "\n",
        "plt.figure(figsize=[10,10])\n",
        "\n",
        "\n",
        "plt.subplot(2,2,1)\n",
        "n = 3\n",
        "plt.imshow(xt[n].reshape(32, 32, -1), cmap=plt.cm.binary)\n",
        "plt.title(\"Predicted value: \" + str(class_names[np.argmax(predictions[n], axis=0)]), size=20)\n",
        "plt.grid(False)\n",
        "\n",
        "plt.subplot(2,2,2)\n",
        "n = 4\n",
        "plt.imshow(xt[n].reshape(32, 32, -1), cmap=plt.cm.binary)\n",
        "plt.title(\"Predicted value: \" + str(class_names[np.argmax(predictions[n], axis=0)]), size=20)\n",
        "plt.grid(False)\n",
        "\n",
        "plt.subplot(2,2,3)\n",
        "n = 8\n",
        "plt.imshow(xt[n].reshape(32, 32, -1), cmap=plt.cm.binary)\n",
        "plt.title(\"Predicted value: \" + str(class_names[np.argmax(predictions[n], axis=0)]), size=20)\n",
        "plt.grid(False)\n",
        "\n",
        "plt.subplot(2,2,4)\n",
        "n = 6\n",
        "plt.imshow(xt[n].reshape(32, 32, -1), cmap=plt.cm.binary)\n",
        "plt.title(\"Predicted value: \" + str(class_names[np.argmax(predictions[n], axis=0)]), size=20)\n",
        "plt.grid(False)\n",
        "\n",
        "plt.suptitle(\"Predictions of CIFAR-10 Data\", size=30, color=\"#6166B3\")\n",
        "\n",
        "plt.show()"
      ],
      "metadata": {
        "colab": {
          "base_uri": "https://localhost:8080/",
          "height": 536
        },
        "id": "Gq0WrjlV1NnM",
        "outputId": "dc4a3198-3acb-4405-8675-59b050024e44"
      },
      "execution_count": 30,
      "outputs": [
        {
          "output_type": "stream",
          "name": "stdout",
          "text": [
            "313/313 [==============================] - 1s 3ms/step\n"
          ]
        },
        {
          "output_type": "error",
          "ename": "IndexError",
          "evalue": "ignored",
          "traceback": [
            "\u001b[0;31m---------------------------------------------------------------------------\u001b[0m",
            "\u001b[0;31mIndexError\u001b[0m                                Traceback (most recent call last)",
            "\u001b[0;32m<ipython-input-30-1467454c2e13>\u001b[0m in \u001b[0;36m<module>\u001b[0;34m\u001b[0m\n\u001b[1;32m      8\u001b[0m \u001b[0mn\u001b[0m \u001b[0;34m=\u001b[0m \u001b[0;36m3\u001b[0m\u001b[0;34m\u001b[0m\u001b[0;34m\u001b[0m\u001b[0m\n\u001b[1;32m      9\u001b[0m \u001b[0mplt\u001b[0m\u001b[0;34m.\u001b[0m\u001b[0mimshow\u001b[0m\u001b[0;34m(\u001b[0m\u001b[0mxt\u001b[0m\u001b[0;34m[\u001b[0m\u001b[0mn\u001b[0m\u001b[0;34m]\u001b[0m\u001b[0;34m.\u001b[0m\u001b[0mreshape\u001b[0m\u001b[0;34m(\u001b[0m\u001b[0;36m32\u001b[0m\u001b[0;34m,\u001b[0m \u001b[0;36m32\u001b[0m\u001b[0;34m,\u001b[0m \u001b[0;34m-\u001b[0m\u001b[0;36m1\u001b[0m\u001b[0;34m)\u001b[0m\u001b[0;34m,\u001b[0m \u001b[0mcmap\u001b[0m\u001b[0;34m=\u001b[0m\u001b[0mplt\u001b[0m\u001b[0;34m.\u001b[0m\u001b[0mcm\u001b[0m\u001b[0;34m.\u001b[0m\u001b[0mbinary\u001b[0m\u001b[0;34m)\u001b[0m\u001b[0;34m\u001b[0m\u001b[0;34m\u001b[0m\u001b[0m\n\u001b[0;32m---> 10\u001b[0;31m \u001b[0mplt\u001b[0m\u001b[0;34m.\u001b[0m\u001b[0mtitle\u001b[0m\u001b[0;34m(\u001b[0m\u001b[0;34m\"Predicted value: \"\u001b[0m \u001b[0;34m+\u001b[0m \u001b[0mstr\u001b[0m\u001b[0;34m(\u001b[0m\u001b[0mclass_names\u001b[0m\u001b[0;34m[\u001b[0m\u001b[0mnp\u001b[0m\u001b[0;34m.\u001b[0m\u001b[0margmax\u001b[0m\u001b[0;34m(\u001b[0m\u001b[0mpredictions\u001b[0m\u001b[0;34m[\u001b[0m\u001b[0mn\u001b[0m\u001b[0;34m]\u001b[0m\u001b[0;34m,\u001b[0m \u001b[0maxis\u001b[0m\u001b[0;34m=\u001b[0m\u001b[0;36m0\u001b[0m\u001b[0;34m)\u001b[0m\u001b[0;34m]\u001b[0m\u001b[0;34m)\u001b[0m\u001b[0;34m,\u001b[0m \u001b[0msize\u001b[0m\u001b[0;34m=\u001b[0m\u001b[0;36m20\u001b[0m\u001b[0;34m)\u001b[0m\u001b[0;34m\u001b[0m\u001b[0;34m\u001b[0m\u001b[0m\n\u001b[0m\u001b[1;32m     11\u001b[0m \u001b[0mplt\u001b[0m\u001b[0;34m.\u001b[0m\u001b[0mgrid\u001b[0m\u001b[0;34m(\u001b[0m\u001b[0;32mFalse\u001b[0m\u001b[0;34m)\u001b[0m\u001b[0;34m\u001b[0m\u001b[0;34m\u001b[0m\u001b[0m\n\u001b[1;32m     12\u001b[0m \u001b[0;34m\u001b[0m\u001b[0m\n",
            "\u001b[0;31mIndexError\u001b[0m: list index out of range"
          ]
        },
        {
          "output_type": "display_data",
          "data": {
            "text/plain": [
              "<Figure size 720x720 with 1 Axes>"
            ],
            "image/png": "[encoded data removed]"
          },
          "metadata": {
            "needs_background": "light"
          }
        }
      ]
    },
    {
      "cell_type": "code",
      "source": [
        "plt.subplot(2,2,1)\n",
        "n = 6\n",
        "plt.imshow(xt[n].reshape(32, 32, -1))"
      ],
      "metadata": {
        "colab": {
          "base_uri": "https://localhost:8080/",
          "height": 167
        },
        "id": "QU5qv3_J3JYU",
        "outputId": "8c5b04b5-496f-4aa1-f222-71ccc1538154"
      },
      "execution_count": 33,
      "outputs": [
        {
          "output_type": "execute_result",
          "data": {
            "text/plain": [
              "<matplotlib.image.AxesImage at 0x7f909f5bbc10>"
            ]
          },
          "metadata": {},
          "execution_count": 33
        },
        {
          "output_type": "display_data",
          "data": {
            "text/plain": [
              "<Figure size 432x288 with 1 Axes>"
            ],
            "image/png": "[encoded data removed]"
          },
          "metadata": {
            "needs_background": "light"
          }
        }
      ]
    }
  ]
}